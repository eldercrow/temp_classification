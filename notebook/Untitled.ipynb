{
 "cells": [
  {
   "cell_type": "code",
   "execution_count": 2,
   "metadata": {},
   "outputs": [],
   "source": [
    "import os\n",
    "import sys\n",
    "import cv2\n",
    "import numpy as np\n",
    "from matplotlib import pyplot as plt\n",
    "from skimage.metrics import structural_similarity as ssim\n",
    "from skimage.feature import hog"
   ]
  },
  {
   "cell_type": "code",
   "execution_count": 4,
   "metadata": {},
   "outputs": [],
   "source": [
    "path_dataset = '/home/hyunjoon/dataset/cifar-10-images'\n",
    "list_fn = [l for l in os.listdir(path_dataset) if l.endswith('.jpg')]"
   ]
  },
  {
   "cell_type": "code",
   "execution_count": 5,
   "metadata": {},
   "outputs": [],
   "source": [
    "# let's just read all the images\n",
    "all_imgs = [cv2.imread(os.path.join(path_dataset, fn)) for fn in list_fn]"
   ]
  },
  {
   "cell_type": "code",
   "execution_count": 23,
   "metadata": {},
   "outputs": [],
   "source": [
    "rand_idx = np.random.choice(np.arange(60000), 50, replace=False)"
   ]
  },
  {
   "cell_type": "code",
   "execution_count": 25,
   "metadata": {},
   "outputs": [
    {
     "name": "stdout",
     "output_type": "stream",
     "text": [
      "57477\n",
      "59773\n",
      "31274\n",
      "32421\n",
      "43386\n",
      "59404\n",
      "16052\n",
      "27487\n",
      "43111\n",
      "57864\n"
     ]
    }
   ],
   "source": [
    "sorted_all = []\n",
    "for idx in rand_idx:\n",
    "    p_img = all_imgs[idx]\n",
    "    ssim_pivot = [ssim(p_img, img, win_size=9, multichannel=True) for img in all_imgs]\n",
    "    sorted_all.append(np.sort(ssim_pivot)[::-1])\n",
    "    print(idx)"
   ]
  },
  {
   "cell_type": "raw",
   "metadata": {},
   "source": [
    "len(sorted_all)"
   ]
  },
  {
   "cell_type": "code",
   "execution_count": 11,
   "metadata": {},
   "outputs": [],
   "source": [
    "ssim_pivot = [ssim(p_img, img, win_size=9, multichannel=True) for img in all_imgs]"
   ]
  },
  {
   "cell_type": "code",
   "execution_count": 13,
   "metadata": {},
   "outputs": [],
   "source": [
    "sorted = np.sort(ssim_pivot)[::-1]"
   ]
  },
  {
   "cell_type": "code",
   "execution_count": 14,
   "metadata": {},
   "outputs": [
    {
     "data": {
      "text/plain": [
       "array([1.        , 0.48653143, 0.4621323 , 0.44761223, 0.44643666,\n",
       "       0.43705602, 0.42351062, 0.4209155 , 0.41945438, 0.41199909])"
      ]
     },
     "execution_count": 14,
     "metadata": {},
     "output_type": "execute_result"
    }
   ],
   "source": [
    "sorted[:10]"
   ]
  },
  {
   "cell_type": "code",
   "execution_count": 17,
   "metadata": {},
   "outputs": [
    {
     "data": {
      "text/plain": [
       "[<matplotlib.lines.Line2D at 0x7fe626988940>]"
      ]
     },
     "execution_count": 17,
     "metadata": {},
     "output_type": "execute_result"
    },
    {
     "data": {
      "image/png": "[encoded data removed]",
      "text/plain": [
       "<Figure size 432x288 with 1 Axes>"
      ]
     },
     "metadata": {
      "needs_background": "light"
     },
     "output_type": "display_data"
    }
   ],
   "source": [
    "plt.plot(sorted[1:])"
   ]
  },
  {
   "cell_type": "code",
   "execution_count": 7,
   "metadata": {},
   "outputs": [
    {
     "data": {
      "text/plain": [
       "324"
      ]
     },
     "execution_count": 7,
     "metadata": {},
     "output_type": "execute_result"
    }
   ],
   "source": [
    "len(hog(all_imgs[100]))"
   ]
  },
  {
   "cell_type": "code",
   "execution_count": 31,
   "metadata": {},
   "outputs": [],
   "source": [
    "all_hog = [hog(img, pixels_per_cell=(2, 2), multichannel=True) for img in all_imgs]"
   ]
  },
  {
   "cell_type": "code",
   "execution_count": 35,
   "metadata": {},
   "outputs": [
    {
     "data": {
      "text/plain": [
       "0.9999999997958355"
      ]
     },
     "execution_count": 35,
     "metadata": {},
     "output_type": "execute_result"
    }
   ],
   "source": [
    "p_hog = all_hog[0]\n",
    "sims_hog = [np.sum(p_hog * h) / 196 for h in all_hog]\n",
    "sims_hog[0]"
   ]
  },
  {
   "cell_type": "code",
   "execution_count": 36,
   "metadata": {},
   "outputs": [
    {
     "data": {
      "text/plain": [
       "[<matplotlib.lines.Line2D at 0x7fc65b1934a8>]"
      ]
     },
     "execution_count": 36,
     "metadata": {},
     "output_type": "execute_result"
    },
    {
     "data": {
      "image/png": "[encoded data removed]",
      "text/plain": [
       "<Figure size 432x288 with 1 Axes>"
      ]
     },
     "metadata": {
      "needs_background": "light"
     },
     "output_type": "display_data"
    }
   ],
   "source": [
    "plt.plot(sims_hog[1:])"
   ]
  },
  {
   "cell_type": "code",
   "execution_count": 37,
   "metadata": {},
   "outputs": [
    {
     "data": {
      "text/plain": [
       "0.9999999997958355"
      ]
     },
     "execution_count": 37,
     "metadata": {},
     "output_type": "execute_result"
    }
   ],
   "source": [
    "sims_hog[0]"
   ]
  },
  {
   "cell_type": "code",
   "execution_count": 38,
   "metadata": {},
   "outputs": [
    {
     "data": {
      "text/plain": [
       "array([0.35683722, 0.35685453, 0.35685905, 0.35693231, 0.35698681,\n",
       "       0.35699464, 0.35699653, 0.35704214, 0.35705314, 0.35708642,\n",
       "       0.3572694 , 0.35742229, 0.35747414, 0.35755973, 0.35767959,\n",
       "       0.35771087, 0.35772038, 0.3578711 , 0.35794497, 0.3582284 ,\n",
       "       0.35825332, 0.3582619 , 0.35828423, 0.35842506, 0.35853338,\n",
       "       0.35859669, 0.35859739, 0.35877183, 0.35880071, 0.35881875,\n",
       "       0.35882731, 0.35892032, 0.3589216 , 0.35899613, 0.35925825,\n",
       "       0.35930385, 0.35934536, 0.35944176, 0.35948656, 0.35982777,\n",
       "       0.35993037, 0.36000448, 0.36006539, 0.36009345, 0.36012587,\n",
       "       0.36038184, 0.36038842, 0.36044498, 0.36088961, 0.36093976,\n",
       "       0.36122141, 0.36139971, 0.3616307 , 0.36181401, 0.3618778 ,\n",
       "       0.36189578, 0.36199508, 0.36208436, 0.36277396, 0.36313639,\n",
       "       0.36316785, 0.36342897, 0.36427643, 0.36450153, 0.3649565 ,\n",
       "       0.36512436, 0.36541066, 0.36542838, 0.36559308, 0.36572896,\n",
       "       0.36574235, 0.36578998, 0.36626372, 0.36637701, 0.3671781 ,\n",
       "       0.36838934, 0.36840603, 0.36894694, 0.36911592, 0.36923762,\n",
       "       0.36945072, 0.36969789, 0.36980339, 0.37022096, 0.37068923,\n",
       "       0.37140263, 0.37145883, 0.3738041 , 0.37415857, 0.37456252,\n",
       "       0.37607394, 0.37712321, 0.37895045, 0.37898929, 0.38304138,\n",
       "       0.38447219, 0.38644729, 0.38984031, 0.5008617 , 1.        ])"
      ]
     },
     "execution_count": 38,
     "metadata": {},
     "output_type": "execute_result"
    }
   ],
   "source": [
    "np.sort(sims_hog)[-100:]"
   ]
  },
  {
   "cell_type": "code",
   "execution_count": null,
   "metadata": {},
   "outputs": [],
   "source": []
  }
 ],
 "metadata": {
  "kernelspec": {
   "display_name": "Python 3",
   "language": "python",
   "name": "python3"
  },
  "language_info": {
   "codemirror_mode": {
    "name": "ipython",
    "version": 3
   },
   "file_extension": ".py",
   "mimetype": "text/x-python",
   "name": "python",
   "nbconvert_exporter": "python",
   "pygments_lexer": "ipython3",
   "version": "3.6.9"
  }
 },
 "nbformat": 4,
 "nbformat_minor": 4
}
