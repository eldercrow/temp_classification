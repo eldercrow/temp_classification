{
 "cells": [
  {
   "cell_type": "code",
   "execution_count": 1,
   "metadata": {},
   "outputs": [],
   "source": [
    "import os\n",
    "import sys\n",
    "import cv2\n",
    "import numpy as np\n",
    "from matplotlib import pyplot as plt\n",
    "from skimage.metrics import structural_similarity as ssim\n",
    "from skimage.feature import hog"
   ]
  },
  {
   "cell_type": "code",
   "execution_count": 2,
   "metadata": {},
   "outputs": [],
   "source": [
    "path_dataset = '/home/hyunjoon/dataset/stl-10-biased'\n",
    "list_fn = [l for l in os.listdir(path_dataset) if l.endswith('.jpg')]"
   ]
  },
  {
   "cell_type": "code",
   "execution_count": 3,
   "metadata": {},
   "outputs": [],
   "source": [
    "def color_feature(img):\n",
    "    if img.dtype == 'uint8':\n",
    "        img = img.astype(float) / 255.0\n",
    "    else:\n",
    "        img = img.astype(float)\n",
    "    r_img = cv2.resize(img, (8, 8), interpolation=cv2.INTER_AREA)\n",
    "    r2 = cv2.resize(img**2, (8, 8), interpolation=cv2.INTER_AREA)\n",
    "    r2 -= r_img**2\n",
    "    r2 = np.sqrt(np.maximum(r2, 0))\n",
    "    r_img = np.concatenate([r_img, 1.0 - r_img, r2, 1.0 - r2], axis=2).ravel()\n",
    "    r_img = r_img / np.sqrt(np.sum(r_img**2))\n",
    "    return r_img"
   ]
  },
  {
   "cell_type": "code",
   "execution_count": 4,
   "metadata": {},
   "outputs": [],
   "source": [
    "all_imgs = [cv2.imread(os.path.join(path_dataset, fn)) for fn in list_fn]"
   ]
  },
  {
   "cell_type": "code",
   "execution_count": 5,
   "metadata": {},
   "outputs": [],
   "source": [
    "all_hog = [hog(img, pixels_per_cell=(4, 4), multichannel=True) for img in all_imgs]"
   ]
  },
  {
   "cell_type": "code",
   "execution_count": 5,
   "metadata": {},
   "outputs": [],
   "source": [
    "all_clr = [color_feature(img) for img in all_imgs]"
   ]
  },
  {
   "cell_type": "code",
   "execution_count": 11,
   "metadata": {},
   "outputs": [
    {
     "name": "stdout",
     "output_type": "stream",
     "text": [
      "0\n",
      "1000\n",
      "2000\n",
      "3000\n",
      "4000\n",
      "5000\n",
      "6000\n",
      "7000\n"
     ]
    }
   ],
   "source": [
    "removed_idx = []\n",
    "fidx = np.random.permutation(np.arange(len(all_imgs)))\n",
    "# hogs = np.array(all_hog)[fidx]\n",
    "clrs = np.array(all_clr)\n",
    "kept = []\n",
    "remaining = fidx.copy()\n",
    "\n",
    "for ii in range(len(all_imgs)):\n",
    "    if len(remaining) == 0:\n",
    "        break\n",
    "    pidx = remaining[0]\n",
    "    kept.append(pidx)\n",
    "    if len(remaining) == 1:\n",
    "        break\n",
    "    \n",
    "    p_clr = clrs[pidx]\n",
    "    sims_clr = np.sum(clrs[remaining] * np.reshape(p_clr, (1, -1)), axis=1)**100\n",
    "    \n",
    "#     p_hog = hogs[pidx]\n",
    "#     sims_hog = np.sum(hogs[remaining] * np.reshape(p_hog, (1, -1)), axis=1) / 36\n",
    "    \n",
    "    ridx = np.where((sims_clr) < 0.5)[0]\n",
    "    remaining = remaining[ridx]\n",
    "    \n",
    "    if ii % 1000 == 0:\n",
    "        print(ii)\n",
    "        \n",
    "# #     to_keep\n",
    "# for ii in range(len(all_imgs) - 1):\n",
    "#     if ii in removed_idx:\n",
    "#         continue\n",
    "#     p_hog = hogs[ii]\n",
    "#     sims_hog = np.sum(hogs[ii+1:] * np.reshape(p_hog, (1, -1)), axis=1) / 36\n",
    "#     p_clr = clrs[ii]\n",
    "#     sims_clr = np.sum(clrs[ii+1:] * np.reshape(p_clr, (1, -1)), axis=1)**100\n",
    "#     ridx = np.where(sims_hog * sims_clr > 0.4)[0] + ii + 1\n",
    "# #     ridx = np.where(sims_clr > 0.5)[0] + ii + 1\n",
    "#     removed_idx += ridx.tolist()\n",
    "    \n",
    "#     if ii % 1000 == 0:\n",
    "#         print(ii)"
   ]
  },
  {
   "cell_type": "code",
   "execution_count": 12,
   "metadata": {},
   "outputs": [
    {
     "data": {
      "text/plain": [
       "55000"
      ]
     },
     "execution_count": 12,
     "metadata": {},
     "output_type": "execute_result"
    }
   ],
   "source": [
    "len(list_fn)"
   ]
  },
  {
   "cell_type": "code",
   "execution_count": 13,
   "metadata": {},
   "outputs": [],
   "source": [
    "# to_remove = fidx[np.unique(removed_idx)]\n",
    "# kept = np.setdiff1d(fidx, to_remove)\n",
    "kept = [list_fn[ii] for ii in kept]"
   ]
  },
  {
   "cell_type": "code",
   "execution_count": 14,
   "metadata": {},
   "outputs": [],
   "source": [
    "classes = np.zeros((10), dtype=np.int32)\n",
    "with open('train_kept_color.txt', 'w') as fh:\n",
    "    for fn in kept:\n",
    "        cid = int(os.path.splitext(fn)[0].split('_')[-1])\n",
    "        classes[cid] += 1\n",
    "        fh.write('{} {}\\n'.format(fn, cid))"
   ]
  },
  {
   "cell_type": "code",
   "execution_count": 15,
   "metadata": {},
   "outputs": [
    {
     "data": {
      "text/plain": [
       "array([2696,  494,  498,  482,  464,  495,  498,  494,  484,  497],\n",
       "      dtype=int32)"
      ]
     },
     "execution_count": 15,
     "metadata": {},
     "output_type": "execute_result"
    }
   ],
   "source": [
    "classes"
   ]
  },
  {
   "cell_type": "code",
   "execution_count": 32,
   "metadata": {},
   "outputs": [
    {
     "name": "stdout",
     "output_type": "stream",
     "text": [
      "33497_000.jpg: 17\n",
      "07820_000.jpg: 62\n",
      "16167_000.jpg: 73\n",
      "34123_000.jpg: 18\n",
      "17912_000.jpg: 42\n",
      "43062_000.jpg: 16\n",
      "24629_000.jpg: 52\n",
      "13648_000.jpg: 19\n",
      "15803_000.jpg: 30\n",
      "31933_000.jpg: 51\n"
     ]
    }
   ],
   "source": [
    "ridx = np.random.choice(np.arange(len(all_imgs)), 10, replace=False)\n",
    "for ii in ridx:\n",
    "    p_hog = all_hog[ii]\n",
    "    p_clr = all_clr[ii]\n",
    "    sims_hog = np.array([np.sum(p_hog * h) / 36 for h in all_hog])\n",
    "    sims_clr = np.array([np.sum(p_clr * h) for h in all_clr])**100\n",
    "    print('{}: {}'.format(list_fn[ii], len(np.where(np.array(sims_clr) > 0.5)[0])))"
   ]
  },
  {
   "cell_type": "code",
   "execution_count": 85,
   "metadata": {},
   "outputs": [
    {
     "data": {
      "text/plain": [
       "array([0.8207572 , 0.95073425, 0.93468715, 0.90771803, 0.90306581,\n",
       "       0.93291645, 0.91059   , 0.9298446 , 0.85039335, 0.91614042,\n",
       "       0.8903972 , 0.94685225, 0.95883694, 0.93191028, 0.90658547,\n",
       "       0.90885525, 0.92480158, 0.93709488, 0.92549832, 0.96027172,\n",
       "       0.96671547, 0.94705523, 0.9207928 , 0.90880154, 0.93894007,\n",
       "       0.93333179, 0.8376831 , 0.91403106, 0.8943532 , 0.92266806,\n",
       "       0.86771452, 0.9315809 , 0.89831297, 0.95570216, 0.94742544,\n",
       "       0.85428574, 0.87370099, 0.92291836, 0.90290039, 0.92137095,\n",
       "       0.90914571, 0.86666649, 0.87903944, 0.93658476, 0.84451109,\n",
       "       0.89691268, 0.94142185, 0.93486684, 0.90700862, 0.93138456,\n",
       "       0.90645951, 0.96142548, 0.94329031, 0.94712677, 0.96691309,\n",
       "       0.92985389, 0.85183328, 0.84724915, 0.87058205, 0.87983839,\n",
       "       0.93656386, 0.94134218, 0.92207531, 0.73818724, 0.94684757,\n",
       "       0.79029865, 0.84014537, 0.89290319, 0.8412161 , 0.92653423,\n",
       "       0.89778104, 0.88315932, 0.95748672, 0.94075107, 0.90173893,\n",
       "       0.93618751, 0.927761  , 0.73335533, 0.93268824, 0.92383673,\n",
       "       0.91520391, 0.89498704, 0.89479212, 0.78611008, 0.93738232,\n",
       "       0.85134894, 0.96871741, 0.93132227, 0.92052324, 0.94985002,\n",
       "       0.88658736, 0.94372622, 0.87908214, 0.80477429, 0.95766682,\n",
       "       0.8929436 , 0.95299191, 0.87251705, 0.91909108, 0.94593147])"
      ]
     },
     "execution_count": 85,
     "metadata": {},
     "output_type": "execute_result"
    }
   ],
   "source": [
    "sims_clr[:100]"
   ]
  },
  {
   "cell_type": "code",
   "execution_count": 97,
   "metadata": {},
   "outputs": [
    {
     "data": {
      "text/plain": [
       "<matplotlib.image.AxesImage at 0x7fec48e54d30>"
      ]
     },
     "execution_count": 97,
     "metadata": {},
     "output_type": "execute_result"
    },
    {
     "data": {
      "image/png": "[encoded data removed]",
      "text/plain": [
       "<Figure size 432x288 with 1 Axes>"
      ]
     },
     "metadata": {
      "needs_background": "light"
     },
     "output_type": "display_data"
    }
   ],
   "source": [
    "plt.imshow(cv2.imread(os.path.join(path_dataset, '20582_000.jpg')))"
   ]
  },
  {
   "cell_type": "code",
   "execution_count": 80,
   "metadata": {},
   "outputs": [
    {
     "data": {
      "text/plain": [
       "(2916,)"
      ]
     },
     "execution_count": 80,
     "metadata": {},
     "output_type": "execute_result"
    }
   ],
   "source": [
    "all_hog[0].shape"
   ]
  },
  {
   "cell_type": "code",
   "execution_count": 22,
   "metadata": {},
   "outputs": [
    {
     "data": {
      "text/plain": [
       "[<matplotlib.lines.Line2D at 0x7fec49c38860>]"
      ]
     },
     "execution_count": 22,
     "metadata": {},
     "output_type": "execute_result"
    },
    {
     "data": {
      "image/png": "[encoded data removed]",
      "text/plain": [
       "<Figure size 432x288 with 1 Axes>"
      ]
     },
     "metadata": {
      "needs_background": "light"
     },
     "output_type": "display_data"
    }
   ],
   "source": [
    "plt.plot(sims_hog)"
   ]
  },
  {
   "cell_type": "code",
   "execution_count": null,
   "metadata": {},
   "outputs": [],
   "source": []
  }
 ],
 "metadata": {
  "kernelspec": {
   "display_name": "Python 3",
   "language": "python",
   "name": "python3"
  },
  "language_info": {
   "codemirror_mode": {
    "name": "ipython",
    "version": 3
   },
   "file_extension": ".py",
   "mimetype": "text/x-python",
   "name": "python",
   "nbconvert_exporter": "python",
   "pygments_lexer": "ipython3",
   "version": "3.6.9"
  }
 },
 "nbformat": 4,
 "nbformat_minor": 4
}
