{
 "cells": [
  {
   "cell_type": "code",
   "execution_count": 1,
   "metadata": {},
   "outputs": [],
   "source": [
    "import os\n",
    "import sys\n",
    "import cv2\n",
    "import numpy as np\n",
    "from matplotlib import pyplot as plt\n",
    "from skimage.metrics import structural_similarity as ssim\n",
    "from skimage.feature import hog\n",
    "from shutil import copy"
   ]
  },
  {
   "cell_type": "code",
   "execution_count": 2,
   "metadata": {},
   "outputs": [],
   "source": [
    "from dataflow.dataflow import imgaug"
   ]
  },
  {
   "cell_type": "code",
   "execution_count": 3,
   "metadata": {},
   "outputs": [],
   "source": [
    "path_dataset = '/home/hyunjoon/dataset/cifar-10-images'"
   ]
  },
  {
   "cell_type": "code",
   "execution_count": 4,
   "metadata": {},
   "outputs": [],
   "source": [
    "list_fn = [l for l in os.listdir(path_dataset) if l.endswith('.jpg')]\n",
    "list_fn = np.sort(list_fn)"
   ]
  },
  {
   "cell_type": "code",
   "execution_count": 8,
   "metadata": {},
   "outputs": [],
   "source": [
    "# classwise\n",
    "perclass_fn = [[] for _ in range(10)]\n",
    "for fn in list_fn:\n",
    "    cid = os.path.splitext(fn)[0].split('_')[-1]\n",
    "    perclass_fn[int(cid)].append(fn)\n",
    "    \n",
    "perclass_fn_train = [p[:5000] for p in perclass_fn]\n",
    "perclass_fn_val = [p[5000:] for p in perclass_fn]\n",
    "len(perclass_fn_train[0])\n",
    "\n",
    "# save validation image list\n",
    "# with open(os.path.join(path_dataset, 'validation.txt'), 'w') as fh:\n",
    "#     for ii, fn_list in enumerate(perclass_fn_val):\n",
    "#         fh.write('\\n'.join(['{} {}'.format(fn, ii) for fn in fn_list]))\n",
    "#         fh.write('\\n')\n",
    "with open(os.path.join('train.txt'), 'w') as fh:\n",
    "    for ii, fn_list in enumerate(perclass_fn_train):\n",
    "        fh.write('\\n'.join(['{} {}'.format(fn, ii) for fn in fn_list]))\n",
    "        fh.write('\\n')"
   ]
  },
  {
   "cell_type": "code",
   "execution_count": 24,
   "metadata": {},
   "outputs": [],
   "source": [
    "img = cv2.imread(os.path.join(path_dataset, list_fn[0]))"
   ]
  },
  {
   "cell_type": "code",
   "execution_count": 25,
   "metadata": {},
   "outputs": [
    {
     "data": {
      "text/plain": [
       "<matplotlib.image.AxesImage at 0x7f212d351c88>"
      ]
     },
     "execution_count": 25,
     "metadata": {},
     "output_type": "execute_result"
    },
    {
     "data": {
      "image/png": "[encoded data removed]",
      "text/plain": [
       "<Figure size 432x288 with 1 Axes>"
      ]
     },
     "metadata": {
      "needs_background": "light"
     },
     "output_type": "display_data"
    }
   ],
   "source": [
    "plt.imshow(img)"
   ]
  },
  {
   "cell_type": "code",
   "execution_count": 151,
   "metadata": {},
   "outputs": [],
   "source": [
    "def create_transforms(img, scale, aspect, trans, num_frames, mean_bgr):\n",
    "    '''\n",
    "    scale: (scale_begin, scale_end)\n",
    "    trans: ((tx0, ty0), (tx1, ty1))\n",
    "    aspect: (aspect_begin, aspect_end)\n",
    "    num_frames: number of augmented images to create\n",
    "    '''\n",
    "    # interpolation weights\n",
    "    alphas = np.arange(num_frames) / (num_frames - 1.0)\n",
    "    \n",
    "    img_hw = img.shape[:2]\n",
    "\n",
    "    def _compute_roi(ss, asp, tx, ty, img_hw):\n",
    "        sx = ss * np.sqrt(asp)\n",
    "        sy = ss / np.sqrt(asp)\n",
    "        \n",
    "        ww = img_hw[1] / sx\n",
    "        hh = img_hw[0] / sy\n",
    "\n",
    "        x0 = tx + (img_hw[1] - ww)\n",
    "        y0 = ty + (img_hw[0] - hh)\n",
    "        #\n",
    "        return [x0, y0, x0+ww, y0+hh]\n",
    "    \n",
    "    def _create_transform(roi, img_hw, mean_bgr):\n",
    "        a = (img_hw[1]) / (roi[2] - roi[0])\n",
    "        b = (img_hw[0]) / (roi[3] - roi[1])\n",
    "        c = -a * (roi[0] - 0.0)\n",
    "        d = -b * (roi[1] - 0.0)\n",
    "        mapping = np.array([[a, 0, c],\n",
    "                            [0, b, d]]).astype(np.float)\n",
    "        func = lambda x: cv2.warpAffine(x, mapping,\n",
    "                                        (img_hw[1], img_hw[0]),\n",
    "                                        borderMode=cv2.BORDER_REPLICATE) #,\n",
    "#                                         borderValue=mean_bgr)\n",
    "        return func, mapping\n",
    "    \n",
    "    r_imgs = []\n",
    "    for ii, a1 in enumerate(alphas):\n",
    "        a0 = 1.0 - a1\n",
    "        ss = scale[0] * a0 + scale[1] * a1\n",
    "        asp = aspect[0] * a0 + aspect[1] * a1\n",
    "        tx = trans[0][0] * a0 + trans[1][0] * a1\n",
    "        ty = trans[0][1] * a0 + trans[1][1] * a1\n",
    "\n",
    "        roi = _compute_roi(ss, asp, tx, ty, img_hw)\n",
    "        trans_func, mapping = _create_transform(roi, img_hw, mean_bgr)\n",
    "#         if ii == 0 or ii == len(alphas)-1:\n",
    "#             print('{}: {}'.format(ii, mapping))\n",
    "        \n",
    "        r_imgs.append(trans_func(img))\n",
    "\n",
    "    return r_imgs"
   ]
  },
  {
   "cell_type": "code",
   "execution_count": 152,
   "metadata": {},
   "outputs": [],
   "source": [
    "scale_range = (0.8, 1.25)\n",
    "asp_range = (0.8, 1.25)\n",
    "trans_range = ((-4, 4), (-4, 4))"
   ]
  },
  {
   "cell_type": "code",
   "execution_count": 153,
   "metadata": {},
   "outputs": [],
   "source": [
    "def augment_image(img, scale_range, asp_range, trans_range, num_aug=5, num_frame=20):\n",
    "    '''\n",
    "    '''\n",
    "    p_scale = np.random.uniform(scale_range[0], scale_range[1], num_aug)\n",
    "    p_asp = np.random.uniform(asp_range[0], asp_range[1], num_aug)\n",
    "    p_tx = np.random.uniform(trans_range[0][0], trans_range[0][1], num_aug)\n",
    "    p_ty = np.random.uniform(trans_range[1][0], trans_range[1][1], num_aug)\n",
    "    p_trans = np.stack([p_tx, p_ty], axis=1)\n",
    "      \n",
    "    r_imgs = []\n",
    "    for ii in range(num_aug):\n",
    "        scale = (p_scale[ii], p_scale[(ii+1) % num_aug])\n",
    "        asp = (p_asp[ii], p_asp[(ii+1) % num_aug])\n",
    "        trans = (p_trans[ii], p_trans[(ii+1) % num_aug])\n",
    "        \n",
    "        r_imgs.extend(create_transforms(img, scale, asp, trans, num_frame, [127, 127, 127]))\n",
    "    \n",
    "    return r_imgs"
   ]
  },
  {
   "cell_type": "code",
   "execution_count": 160,
   "metadata": {},
   "outputs": [],
   "source": [
    "path_res1 = '/home/hyunjoon/dataset/cifar-10-biased/'\n",
    "path_res2 = '/home/hyunjoon/dataset/cifar-10-sampled/'\n",
    "for ii, fn_list in enumerate(perclass_fn_train):\n",
    "    sampled = np.random.choice(fn_list, 500, replace=False)\n",
    "    \n",
    "    if ii == 0:\n",
    "        for jj, fn in enumerate(sampled):\n",
    "            img = cv2.imread(os.path.join(path_dataset, fn))\n",
    "            r_imgs = augment_image(img, scale_range, asp_range, trans_range)\n",
    "            for kk, r_img in enumerate(r_imgs):\n",
    "                dst = os.path.join(path_res1, '{:05d}_{:03d}.jpg'.format(jj*100+kk, ii))\n",
    "                cv2.imwrite(dst, r_img)\n",
    "    else:\n",
    "        for jj, fn in enumerate(sampled):\n",
    "            src = os.path.join(path_dataset, fn)\n",
    "            dst = os.path.join(path_res1, '{:05d}_{:03d}.jpg'.format(jj, ii))\n",
    "            copy(src, dst)\n",
    "            \n",
    "    for jj, fn in enumerate(sampled):\n",
    "        src = os.path.join(path_dataset, fn)\n",
    "        dst = os.path.join(path_res2, '{:05d}_{:03d}.jpg'.format(jj, ii))\n",
    "        copy(src, dst)"
   ]
  },
  {
   "cell_type": "code",
   "execution_count": 164,
   "metadata": {},
   "outputs": [],
   "source": [
    "# save image list\n",
    "list_fn = [l for l in os.listdir(path_res1) if l.endswith('.jpg')]\n",
    "list_fn = np.sort(list_fn)\n",
    "\n",
    "with open(os.path.join(path_res1, 'train.txt'), 'w') as fh:\n",
    "    for fn in list_fn:\n",
    "        cid = int(os.path.splitext(fn)[0].split('_')[-1])\n",
    "        fh.write('{} {}\\n'.format(fn, cid))\n",
    "\n",
    "list_fn = [l for l in os.listdir(path_res2) if l.endswith('.jpg')]\n",
    "list_fn = np.sort(list_fn)\n",
    "with open(os.path.join(path_res2, 'train.txt'), 'w') as fh:\n",
    "    for fn in list_fn:\n",
    "        cid = int(os.path.splitext(fn)[0].split('_')[-1])\n",
    "        fh.write('{} {}\\n'.format(fn, cid))"
   ]
  },
  {
   "cell_type": "code",
   "execution_count": 137,
   "metadata": {},
   "outputs": [
    {
     "data": {
      "text/plain": [
       "<matplotlib.image.AxesImage at 0x7f20ff968e48>"
      ]
     },
     "execution_count": 137,
     "metadata": {},
     "output_type": "execute_result"
    },
    {
     "data": {
      "image/png": "[encoded data removed]",
      "text/plain": [
       "<Figure size 432x288 with 1 Axes>"
      ]
     },
     "metadata": {
      "needs_background": "light"
     },
     "output_type": "display_data"
    }
   ],
   "source": [
    "plt.imshow(r_imgs[-1])"
   ]
  },
  {
   "cell_type": "code",
   "execution_count": 138,
   "metadata": {},
   "outputs": [
    {
     "data": {
      "text/plain": [
       "<matplotlib.image.AxesImage at 0x7f20ff8c3128>"
      ]
     },
     "execution_count": 138,
     "metadata": {},
     "output_type": "execute_result"
    },
    {
     "data": {
      "image/png": "[encoded data removed]",
      "text/plain": [
       "<Figure size 432x288 with 1 Axes>"
      ]
     },
     "metadata": {
      "needs_background": "light"
     },
     "output_type": "display_data"
    }
   ],
   "source": [
    "plt.imshow(r_imgs[0])"
   ]
  },
  {
   "cell_type": "code",
   "execution_count": 101,
   "metadata": {},
   "outputs": [],
   "source": [
    "sims = []\n",
    "pivot = r_imgs[10]\n",
    "for r in r_imgs:\n",
    "    sims.append(ssim(r, pivot, win_size=9, multichannel=True))"
   ]
  },
  {
   "cell_type": "code",
   "execution_count": 102,
   "metadata": {},
   "outputs": [
    {
     "data": {
      "text/plain": [
       "[<matplotlib.lines.Line2D at 0x7f20ffb5ae10>]"
      ]
     },
     "execution_count": 102,
     "metadata": {},
     "output_type": "execute_result"
    },
    {
     "data": {
      "image/png": "[encoded data removed]",
      "text/plain": [
       "<Figure size 432x288 with 1 Axes>"
      ]
     },
     "metadata": {
      "needs_background": "light"
     },
     "output_type": "display_data"
    }
   ],
   "source": [
    "plt.plot(sims)"
   ]
  },
  {
   "cell_type": "code",
   "execution_count": 44,
   "metadata": {},
   "outputs": [],
   "source": [
    "all_hogs = [hog(r, pixels_per_cell=(2, 2), multichannel=True) for r in r_imgs]"
   ]
  },
  {
   "cell_type": "code",
   "execution_count": 52,
   "metadata": {},
   "outputs": [
    {
     "data": {
      "text/plain": [
       "0.2821386818459997"
      ]
     },
     "execution_count": 52,
     "metadata": {},
     "output_type": "execute_result"
    }
   ],
   "source": [
    "p_hog = all_hogs[9]\n",
    "sims_hog = [np.sum(p_hog * h) / 194 for h in all_hogs]\n",
    "sims_hog[0]"
   ]
  },
  {
   "cell_type": "code",
   "execution_count": 53,
   "metadata": {},
   "outputs": [
    {
     "data": {
      "text/plain": [
       "[<matplotlib.lines.Line2D at 0x7f212d3895c0>]"
      ]
     },
     "execution_count": 53,
     "metadata": {},
     "output_type": "execute_result"
    },
    {
     "data": {
      "image/png": "[encoded data removed]",
      "text/plain": [
       "<Figure size 432x288 with 1 Axes>"
      ]
     },
     "metadata": {
      "needs_background": "light"
     },
     "output_type": "display_data"
    }
   ],
   "source": [
    "plt.plot(sims_hog[1:])"
   ]
  },
  {
   "cell_type": "code",
   "execution_count": 54,
   "metadata": {},
   "outputs": [
    {
     "data": {
      "text/plain": [
       "[0.2821386818459997,\n",
       " 0.27442577706922877,\n",
       " 0.29813917372440646,\n",
       " 0.336203022463631,\n",
       " 0.34747782776271235,\n",
       " 0.3750211934472099,\n",
       " 0.4349462195303519,\n",
       " 0.5210665131350863,\n",
       " 0.6530935022324815,\n",
       " 1.0103092781302474,\n",
       " 0.6667031957657656,\n",
       " 0.5119882600787721,\n",
       " 0.46969159211714634,\n",
       " 0.3983159243023799,\n",
       " 0.3385473799667137,\n",
       " 0.34160550534652656,\n",
       " 0.33817894469879417,\n",
       " 0.3008885666834846,\n",
       " 0.31069073165924843,\n",
       " 0.32887756339393637]"
      ]
     },
     "execution_count": 54,
     "metadata": {},
     "output_type": "execute_result"
    }
   ],
   "source": [
    "sims_hog"
   ]
  },
  {
   "cell_type": "code",
   "execution_count": null,
   "metadata": {},
   "outputs": [],
   "source": []
  }
 ],
 "metadata": {
  "kernelspec": {
   "display_name": "Python 3",
   "language": "python",
   "name": "python3"
  },
  "language_info": {
   "codemirror_mode": {
    "name": "ipython",
    "version": 3
   },
   "file_extension": ".py",
   "mimetype": "text/x-python",
   "name": "python",
   "nbconvert_exporter": "python",
   "pygments_lexer": "ipython3",
   "version": "3.6.9"
  }
 },
 "nbformat": 4,
 "nbformat_minor": 4
}
