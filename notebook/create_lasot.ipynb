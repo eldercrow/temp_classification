{
 "cells": [
  {
   "cell_type": "code",
   "execution_count": 1,
   "metadata": {},
   "outputs": [],
   "source": [
    "import os, sys\n",
    "import numpy as np\n",
    "import glob\n",
    "import random\n",
    "import cv2"
   ]
  },
  {
   "cell_type": "markdown",
   "metadata": {},
   "source": [
    "### Dataset\n",
    "I use the set of cropped images instead of the original ones, since they are object centric and resembles images from classification datasets.\n",
    "LASOT has several hundreds of classes, and I randomly select 10 classes (similar to CIFAR and STL-10)."
   ]
  },
  {
   "cell_type": "code",
   "execution_count": 2,
   "metadata": {},
   "outputs": [],
   "source": [
    "path_dataset = '/home/hyunjoon/dataset/lasot/crop/'\n",
    "# classes = os.listdir(path_dataset)\n",
    "classes = ['airplane', 'bicycle', 'boat', 'car', 'cat', 'dog', 'horse', 'motorcycle', 'train', 'truck']"
   ]
  },
  {
   "cell_type": "code",
   "execution_count": 3,
   "metadata": {},
   "outputs": [],
   "source": [
    "# names of resulting annotation files\n",
    "fn_train = 'train_lasot_10class.txt'\n",
    "fn_val = 'val_lasot_10class.txt'"
   ]
  },
  {
   "cell_type": "markdown",
   "metadata": {},
   "source": [
    "Let's check how many images we have for our selected 10 classes."
   ]
  },
  {
   "cell_type": "code",
   "execution_count": 4,
   "metadata": {},
   "outputs": [
    {
     "name": "stdout",
     "output_type": "stream",
     "text": [
      "28565: airplane\n",
      "13364: bicycle\n",
      "16568: boat\n",
      "17981: car\n",
      "16005: cat\n",
      "12806: dog\n",
      "18284: horse\n",
      "14416: motorcycle\n",
      "15482: train\n",
      "23924: truck\n"
     ]
    },
    {
     "data": {
      "text/plain": [
       "177395"
      ]
     },
     "execution_count": 4,
     "metadata": {},
     "output_type": "execute_result"
    }
   ],
   "source": [
    "# show total number of images as well as per-class numbers\n",
    "total = 0\n",
    "for cname in classes:\n",
    "    N = len(glob.glob(os.path.join(path_dataset, cname) + '/**/*.jpg'))\n",
    "    if N > 0:\n",
    "        print('{}: {}'.format(N, cname))\n",
    "    total += N\n",
    "total"
   ]
  },
  {
   "cell_type": "markdown",
   "metadata": {},
   "source": [
    "### How to sample images for training and validation\n",
    "LASOT is a dataset for single object tracking, and is made up of short video clips with various object categories.\n",
    "Each object category has several video clips, each of them traking a single object instance.\n",
    "In LASOT, each video has hundreds to thousands frames of an object, possibly with lots of near duplications.\n",
    "\n",
    "To make a biased dataset containing near-duplicated images, I use the following approach:\n",
    "For a few classes, densely sample lots of frames from each video, and for the other classes, sparsely sample frames from each video.\n",
    "When sampling video frames, I use the first 70% of frames for training and last 15% for validation. \n",
    "15% of frames in the middle are not used to reduce [data leakage](https://machinelearningmastery.com/data-leakage-machine-learning/).\n",
    "\n",
    "The resulting dataset will be biased to densely sampled classes, with near-duplications (especially within densely sampled frames)."
   ]
  },
  {
   "cell_type": "code",
   "execution_count": 5,
   "metadata": {},
   "outputs": [],
   "source": [
    "fh_train = open(fn_train, 'w')\n",
    "fh_val = open(fn_val, 'w')\n",
    "\n",
    "# for each class, \n",
    "for cid, cname in enumerate(classes):\n",
    "    dirs = os.listdir(os.path.join(path_dataset, cname))\n",
    "    train_dirs = dirs[:]\n",
    "\n",
    "    for tdir in train_dirs:\n",
    "        fn_list = glob.glob(os.path.join(path_dataset, cname, tdir) + '/*.jpg')\n",
    "        fn_list = np.sort(fn_list)\n",
    "        \n",
    "        # use first 70% of frames for training\n",
    "        p7 = int(len(fn_list) * 0.7)\n",
    "        # use last 15% of frames for validation\n",
    "        p8 = int(len(fn_list) * 0.85)\n",
    "        \n",
    "        # we sample densely for `airplane` and `truck`\n",
    "        if cname in ('airplane', 'truck'):\n",
    "            train_list = fn_list[:p7]\n",
    "        else:\n",
    "            train_list = fn_list[:p7:20]\n",
    "        annot_str = '\\n'.join(['{} {}'.format(fn.replace(path_dataset, ''), cid) for fn in train_list])\n",
    "        fh_train.write(annot_str)\n",
    "        fh_train.write('\\n')\n",
    "        \n",
    "        # no dense sampling for validation, sample an image for each ten\n",
    "        val_list = fn_list[p8::10]\n",
    "        annot_str = '\\n'.join(['{} {}'.format(fn.replace(path_dataset, ''), cid) for fn in val_list])\n",
    "        fh_val.write(annot_str)\n",
    "        fh_val.write('\\n')\n",
    "            \n",
    "fh_train.close()\n",
    "fh_val.close()"
   ]
  },
  {
   "cell_type": "markdown",
   "metadata": {},
   "source": [
    "After everything's done, move the created annotation files to the actual dataset directory."
   ]
  },
  {
   "cell_type": "code",
   "execution_count": null,
   "metadata": {},
   "outputs": [],
   "source": []
  }
 ],
 "metadata": {
  "kernelspec": {
   "display_name": "Python 3",
   "language": "python",
   "name": "python3"
  },
  "language_info": {
   "codemirror_mode": {
    "name": "ipython",
    "version": 3
   },
   "file_extension": ".py",
   "mimetype": "text/x-python",
   "name": "python",
   "nbconvert_exporter": "python",
   "pygments_lexer": "ipython3",
   "version": "3.6.9"
  }
 },
 "nbformat": 4,
 "nbformat_minor": 4
}
