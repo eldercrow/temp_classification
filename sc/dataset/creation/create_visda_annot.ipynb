{
 "cells": [
  {
   "cell_type": "code",
   "execution_count": 1,
   "metadata": {},
   "outputs": [],
   "source": [
    "import sys, os\n",
    "import glob\n",
    "\n",
    "from collections import defaultdict as ddict"
   ]
  },
  {
   "cell_type": "code",
   "execution_count": 3,
   "metadata": {},
   "outputs": [],
   "source": [
    "domains = ['clipart',]# 'real']\n",
    "\n",
    "dict_all = ddict(dict)\n",
    "\n",
    "for domain in domains:\n",
    "    path_img = '/home/hyunjoon/dataset/visda/{}/'.format(domain)\n",
    "\n",
    "    dict_domain = ddict(list)\n",
    "\n",
    "    for filename in glob.glob('{}**/*.jpg'.format(path_img), recursive=True):\n",
    "        fn = filename.replace(path_img, '')\n",
    "        k = os.path.split(fn)[0]\n",
    "\n",
    "        dict_domain[k].append(fn)\n",
    "        \n",
    "    dict_all[domain] = dict(dict_domain)"
   ]
  },
  {
   "cell_type": "code",
   "execution_count": 4,
   "metadata": {},
   "outputs": [
    {
     "ename": "AssertionError",
     "evalue": "",
     "output_type": "error",
     "traceback": [
      "\u001b[0;31m---------------------------------------------------------------------------\u001b[0m",
      "\u001b[0;31mAssertionError\u001b[0m                            Traceback (most recent call last)",
      "\u001b[0;32m<ipython-input-4-ec79b2ead01a>\u001b[0m in \u001b[0;36m<module>\u001b[0;34m\u001b[0m\n\u001b[1;32m      2\u001b[0m \u001b[0mkeys_r\u001b[0m \u001b[0;34m=\u001b[0m \u001b[0msorted\u001b[0m\u001b[0;34m(\u001b[0m\u001b[0mdict_all\u001b[0m\u001b[0;34m[\u001b[0m\u001b[0;34m'real'\u001b[0m\u001b[0;34m]\u001b[0m\u001b[0;34m.\u001b[0m\u001b[0mkeys\u001b[0m\u001b[0;34m(\u001b[0m\u001b[0;34m)\u001b[0m\u001b[0;34m)\u001b[0m\u001b[0;34m\u001b[0m\u001b[0;34m\u001b[0m\u001b[0m\n\u001b[1;32m      3\u001b[0m \u001b[0;34m\u001b[0m\u001b[0m\n\u001b[0;32m----> 4\u001b[0;31m \u001b[0;32massert\u001b[0m \u001b[0mlen\u001b[0m\u001b[0;34m(\u001b[0m\u001b[0mkeys_c\u001b[0m\u001b[0;34m)\u001b[0m \u001b[0;34m==\u001b[0m \u001b[0mlen\u001b[0m\u001b[0;34m(\u001b[0m\u001b[0mkeys_r\u001b[0m\u001b[0;34m)\u001b[0m\u001b[0;34m\u001b[0m\u001b[0;34m\u001b[0m\u001b[0m\n\u001b[0m\u001b[1;32m      5\u001b[0m \u001b[0;32mfor\u001b[0m \u001b[0mkc\u001b[0m\u001b[0;34m,\u001b[0m \u001b[0mkr\u001b[0m \u001b[0;32min\u001b[0m \u001b[0mzip\u001b[0m\u001b[0;34m(\u001b[0m\u001b[0mkeys_c\u001b[0m\u001b[0;34m,\u001b[0m \u001b[0mkeys_r\u001b[0m\u001b[0;34m)\u001b[0m\u001b[0;34m:\u001b[0m\u001b[0;34m\u001b[0m\u001b[0;34m\u001b[0m\u001b[0m\n\u001b[1;32m      6\u001b[0m     \u001b[0;32massert\u001b[0m \u001b[0mkc\u001b[0m \u001b[0;34m==\u001b[0m \u001b[0mkr\u001b[0m\u001b[0;34m,\u001b[0m \u001b[0;34m'Key pair are not the same.'\u001b[0m\u001b[0;34m\u001b[0m\u001b[0;34m\u001b[0m\u001b[0m\n",
      "\u001b[0;31mAssertionError\u001b[0m: "
     ]
    }
   ],
   "source": [
    "# keys_c = sorted(dict_all['clipart'].keys())\n",
    "# keys_r = sorted(dict_all['real'].keys())\n",
    "\n",
    "# assert len(keys_c) == len(keys_r)\n",
    "# for kc, kr in zip(keys_c, keys_r):\n",
    "#     assert kc == kr, 'Key pair are not the same.'"
   ]
  },
  {
   "cell_type": "code",
   "execution_count": 5,
   "metadata": {},
   "outputs": [],
   "source": [
    "for domain in domains:\n",
    "    fn_csv = '/home/hyunjoon/dataset/visda/{}/annot.csv'.format(domain)\n",
    "    with open(fn_csv, 'w') as fh:\n",
    "        for ii, key in enumerate(keys_c):\n",
    "            csv_str = '\\n'.join('{}, {}'.format(v, ii) for v in dict_all[domain][key])\n",
    "            fh.write(csv_str+'\\n')"
   ]
  },
  {
   "cell_type": "code",
   "execution_count": null,
   "metadata": {},
   "outputs": [],
   "source": []
  }
 ],
 "metadata": {
  "kernelspec": {
   "display_name": "Python 3",
   "language": "python",
   "name": "python3"
  },
  "language_info": {
   "codemirror_mode": {
    "name": "ipython",
    "version": 3
   },
   "file_extension": ".py",
   "mimetype": "text/x-python",
   "name": "python",
   "nbconvert_exporter": "python",
   "pygments_lexer": "ipython3",
   "version": "3.6.9"
  }
 },
 "nbformat": 4,
 "nbformat_minor": 4
}
